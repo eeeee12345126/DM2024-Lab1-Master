{
 "cells": [
  {
   "cell_type": "code",
   "execution_count": 4,
   "id": "3b5473d6-b534-4779-b683-fe9c78937431",
   "metadata": {},
   "outputs": [],
   "source": [
    "import os\n",
    "import pandas as pd\n",
    "import numpy as np\n",
    "import nltk\n",
    "from sklearn.datasets import fetch_20newsgroups\n",
    "from sklearn.feature_extraction.text import CountVectorizer\n",
    "import plotly as py\n",
    "import math\n",
    "import PAMI\n",
    "import umap\n",
    "%matplotlib inline\n",
    "os.chdir('D://DM_lab1_repo//DM2024-Lab1-Master') \n",
    "import helpers.data_mining_helpers as dmh\n",
    "\n",
    "%load_ext autoreload\n",
    "%autoreload 2\n",
    "\n",
    "from datasets import load_dataset\n",
    "\n",
    "ds = load_dataset(\"Senem/Nostalgic_Sentiment_Analysis_of_YouTube_Comments_Data\")"
   ]
  },
  {
   "cell_type": "code",
   "execution_count": 5,
   "id": "7fb7c4b4-387b-4a21-8c3f-25f3a8ccf32f",
   "metadata": {},
   "outputs": [],
   "source": [
    "# Data Preparation"
   ]
  },
  {
   "cell_type": "code",
   "execution_count": 6,
   "id": "c086de76-e569-4c4f-848d-40b0f1342ff8",
   "metadata": {},
   "outputs": [
    {
     "name": "stdout",
     "output_type": "stream",
     "text": [
      "{'sentiment': 'not nostalgia', 'comment': 'He was a singer with a golden voice that I love to hear all the time. I was his great fan at the age of 16years in those days and still now. Although we have many singers now, but, I can vouch for Jim Reeves all the time. You feel relaxed, emotional and loving. Thank you Lord for his life.'}\n",
      "{'sentiment': Value(dtype='string', id=None), 'comment': Value(dtype='string', id=None)}\n"
     ]
    }
   ],
   "source": [
    "print(ds[\"train\"][0])\n",
    "dsTrain = ds[\"train\"]\n",
    "print(dsTrain.features)\n",
    "ds_shuffled = dsTrain.shuffle(seed=42)"
   ]
  },
  {
   "cell_type": "code",
   "execution_count": 7,
   "id": "2c175544-ea52-4074-80d2-7917415a929a",
   "metadata": {},
   "outputs": [
    {
     "name": "stdout",
     "output_type": "stream",
     "text": [
      "He was a singer with a golden voice that I love to hear all the time. I was his great fan at the age of 16years in those days and still now. Although we have many singers now, but, I can vouch for Jim Reeves all the time. You feel relaxed, emotional and loving. Thank you Lord for his life.\n",
      "The mist beautiful voice ever I listened to him when I was a kid and still love his singing Never forgotten The voice of an angel\n",
      "---\n",
      "not nostalgia\n",
      "nostalgia\n"
     ]
    }
   ],
   "source": [
    "for i in dsTrain.data[:2][\"comment\"]:\n",
    "    print(i)\n",
    "\n",
    "print(\"---\")\n",
    "\n",
    "for i in dsTrain.data[:2][\"sentiment\"]:\n",
    "    print(i)"
   ]
  },
  {
   "cell_type": "code",
   "execution_count": 8,
   "id": "7dd6820e-1f2a-44bf-b50e-d459e89b6250",
   "metadata": {},
   "outputs": [],
   "source": [
    "# Data Transformation"
   ]
  },
  {
   "cell_type": "code",
   "execution_count": 9,
   "id": "a4dd8728-9316-438b-b732-eaa5a5bf9efc",
   "metadata": {},
   "outputs": [
    {
     "data": {
      "text/plain": [
       "pandas.core.frame.DataFrame"
      ]
     },
     "execution_count": 9,
     "metadata": {},
     "output_type": "execute_result"
    }
   ],
   "source": [
    "sentiments = [x.as_py() for x in dsTrain.data['sentiment']]\n",
    "comments = [x.as_py() for x in dsTrain.data['comment']]\n",
    "analysis = pd.DataFrame(sentiments, columns=[\"sentiment\"])\n",
    "type(analysis)"
   ]
  },
  {
   "cell_type": "code",
   "execution_count": 10,
   "id": "ef81a8ab-83c8-4a15-ae51-cd9707b2cd24",
   "metadata": {},
   "outputs": [
    {
     "name": "stdout",
     "output_type": "stream",
     "text": [
      "       sentiment                                            comment\n",
      "0  not nostalgia  He was a singer with a golden voice that I lov...\n",
      "1      nostalgia  The mist beautiful voice ever I listened to hi...\n",
      "2      nostalgia  I have most of Mr. Reeves songs.  Always love ...\n",
      "3  not nostalgia  30 day leave from 1st tour in Viet Nam to conv...\n",
      "4      nostalgia  listening to his songs reminds me of my mum wh...\n"
     ]
    }
   ],
   "source": [
    "analysis[\"comment\"] = comments\n",
    "print(analysis[:5])"
   ]
  },
  {
   "cell_type": "code",
   "execution_count": 11,
   "id": "588a27da-0540-42bb-9b9a-bfd816bef912",
   "metadata": {},
   "outputs": [
    {
     "data": {
      "text/html": [
       "<div>\n",
       "<style scoped>\n",
       "    .dataframe tbody tr th:only-of-type {\n",
       "        vertical-align: middle;\n",
       "    }\n",
       "\n",
       "    .dataframe tbody tr th {\n",
       "        vertical-align: top;\n",
       "    }\n",
       "\n",
       "    .dataframe thead th {\n",
       "        text-align: right;\n",
       "    }\n",
       "</style>\n",
       "<table border=\"1\" class=\"dataframe\">\n",
       "  <thead>\n",
       "    <tr style=\"text-align: right;\">\n",
       "      <th></th>\n",
       "      <th>sentiment</th>\n",
       "      <th>comment</th>\n",
       "    </tr>\n",
       "  </thead>\n",
       "  <tbody>\n",
       "    <tr>\n",
       "      <th>0</th>\n",
       "      <td>not nostalgia</td>\n",
       "      <td>He was a singer with a golden voice that I lov...</td>\n",
       "    </tr>\n",
       "    <tr>\n",
       "      <th>1</th>\n",
       "      <td>nostalgia</td>\n",
       "      <td>The mist beautiful voice ever I listened to hi...</td>\n",
       "    </tr>\n",
       "    <tr>\n",
       "      <th>2</th>\n",
       "      <td>nostalgia</td>\n",
       "      <td>I have most of Mr. Reeves songs.  Always love ...</td>\n",
       "    </tr>\n",
       "    <tr>\n",
       "      <th>3</th>\n",
       "      <td>not nostalgia</td>\n",
       "      <td>30 day leave from 1st tour in Viet Nam to conv...</td>\n",
       "    </tr>\n",
       "    <tr>\n",
       "      <th>4</th>\n",
       "      <td>nostalgia</td>\n",
       "      <td>listening to his songs reminds me of my mum wh...</td>\n",
       "    </tr>\n",
       "  </tbody>\n",
       "</table>\n",
       "</div>"
      ],
      "text/plain": [
       "       sentiment                                            comment\n",
       "0  not nostalgia  He was a singer with a golden voice that I lov...\n",
       "1      nostalgia  The mist beautiful voice ever I listened to hi...\n",
       "2      nostalgia  I have most of Mr. Reeves songs.  Always love ...\n",
       "3  not nostalgia  30 day leave from 1st tour in Viet Nam to conv...\n",
       "4      nostalgia  listening to his songs reminds me of my mum wh..."
      ]
     },
     "execution_count": 11,
     "metadata": {},
     "output_type": "execute_result"
    }
   ],
   "source": [
    "analysis[:5][[\"sentiment\", \"comment\"]]"
   ]
  },
  {
   "cell_type": "code",
   "execution_count": 12,
   "id": "12b04ac2-7075-4cf6-8eac-a135e9a1c833",
   "metadata": {},
   "outputs": [
    {
     "data": {
      "text/plain": [
       "0    He was a singer with a golden voice that I lov...\n",
       "1    The mist beautiful voice ever I listened to hi...\n",
       "2    I have most of Mr. Reeves songs.  Always love ...\n",
       "3    30 day leave from 1st tour in Viet Nam to conv...\n",
       "4    listening to his songs reminds me of my mum wh...\n",
       "Name: comment, dtype: object"
      ]
     },
     "execution_count": 12,
     "metadata": {},
     "output_type": "execute_result"
    }
   ],
   "source": [
    "analysis.iloc[:5, 1]"
   ]
  },
  {
   "cell_type": "code",
   "execution_count": 13,
   "id": "110829aa-8abe-48ec-bfb1-64fceaf8e3ab",
   "metadata": {},
   "outputs": [
    {
     "data": {
      "text/html": [
       "<div>\n",
       "<style scoped>\n",
       "    .dataframe tbody tr th:only-of-type {\n",
       "        vertical-align: middle;\n",
       "    }\n",
       "\n",
       "    .dataframe tbody tr th {\n",
       "        vertical-align: top;\n",
       "    }\n",
       "\n",
       "    .dataframe thead th {\n",
       "        text-align: right;\n",
       "    }\n",
       "</style>\n",
       "<table border=\"1\" class=\"dataframe\">\n",
       "  <thead>\n",
       "    <tr style=\"text-align: right;\">\n",
       "      <th></th>\n",
       "      <th>sentiment</th>\n",
       "      <th>comment</th>\n",
       "    </tr>\n",
       "  </thead>\n",
       "  <tbody>\n",
       "    <tr>\n",
       "      <th>0</th>\n",
       "      <td>The amoung of missing records is:</td>\n",
       "      <td>The amoung of missing records is:</td>\n",
       "    </tr>\n",
       "    <tr>\n",
       "      <th>1</th>\n",
       "      <td>0</td>\n",
       "      <td>0</td>\n",
       "    </tr>\n",
       "  </tbody>\n",
       "</table>\n",
       "</div>"
      ],
      "text/plain": [
       "                            sentiment                             comment\n",
       "0  The amoung of missing records is:   The amoung of missing records is: \n",
       "1                                   0                                   0"
      ]
     },
     "execution_count": 13,
     "metadata": {},
     "output_type": "execute_result"
    }
   ],
   "source": [
    "analysis.isnull().apply(lambda x: dmh.check_missing_values(x))"
   ]
  },
  {
   "cell_type": "code",
   "execution_count": 14,
   "id": "77630b5d-c883-4112-a24f-66219bad86d9",
   "metadata": {},
   "outputs": [
    {
     "data": {
      "text/plain": [
       "sentiment    dummyRecord\n",
       "comment                1\n",
       "dtype: object"
      ]
     },
     "execution_count": 14,
     "metadata": {},
     "output_type": "execute_result"
    }
   ],
   "source": [
    "dummySeries = pd.Series([\"dummyRecord\", 1], [\"sentiment\", \"comment\"]) \n",
    "dummySeries"
   ]
  },
  {
   "cell_type": "code",
   "execution_count": 15,
   "id": "7d898bc5-738a-4539-94a5-1688df7d1974",
   "metadata": {},
   "outputs": [
    {
     "data": {
      "text/html": [
       "<div>\n",
       "<style scoped>\n",
       "    .dataframe tbody tr th:only-of-type {\n",
       "        vertical-align: middle;\n",
       "    }\n",
       "\n",
       "    .dataframe tbody tr th {\n",
       "        vertical-align: top;\n",
       "    }\n",
       "\n",
       "    .dataframe thead th {\n",
       "        text-align: right;\n",
       "    }\n",
       "</style>\n",
       "<table border=\"1\" class=\"dataframe\">\n",
       "  <thead>\n",
       "    <tr style=\"text-align: right;\">\n",
       "      <th></th>\n",
       "      <th>sentiment</th>\n",
       "      <th>comment</th>\n",
       "    </tr>\n",
       "  </thead>\n",
       "  <tbody>\n",
       "    <tr>\n",
       "      <th>0</th>\n",
       "      <td>dummyRecord</td>\n",
       "      <td>1</td>\n",
       "    </tr>\n",
       "  </tbody>\n",
       "</table>\n",
       "</div>"
      ],
      "text/plain": [
       "     sentiment comment\n",
       "0  dummyRecord       1"
      ]
     },
     "execution_count": 15,
     "metadata": {},
     "output_type": "execute_result"
    }
   ],
   "source": [
    "dummySeries.to_frame().T"
   ]
  },
  {
   "cell_type": "code",
   "execution_count": 16,
   "id": "74251ce5-313c-41ee-9119-b2b95a6443f6",
   "metadata": {},
   "outputs": [
    {
     "data": {
      "text/plain": [
       "1501"
      ]
     },
     "execution_count": 16,
     "metadata": {},
     "output_type": "execute_result"
    }
   ],
   "source": [
    "dummyAnalysis = pd.concat([analysis, dummySeries.to_frame().T], ignore_index=True)\n",
    "len(dummyAnalysis)"
   ]
  },
  {
   "cell_type": "code",
   "execution_count": 17,
   "id": "573d81c0-1330-42dc-ba42-533afb390a45",
   "metadata": {},
   "outputs": [
    {
     "data": {
      "text/plain": [
       "1501"
      ]
     },
     "execution_count": 17,
     "metadata": {},
     "output_type": "execute_result"
    }
   ],
   "source": [
    "dummyDict = [{'comment': 'dummy_record'}]\n",
    "analysis = pd.concat([analysis, pd.DataFrame(dummyDict)], ignore_index=True)\n",
    "len(analysis)"
   ]
  },
  {
   "cell_type": "code",
   "execution_count": 18,
   "id": "11a0454c-0667-44df-b82a-2ee64edd0af1",
   "metadata": {},
   "outputs": [
    {
     "data": {
      "text/html": [
       "<div>\n",
       "<style scoped>\n",
       "    .dataframe tbody tr th:only-of-type {\n",
       "        vertical-align: middle;\n",
       "    }\n",
       "\n",
       "    .dataframe tbody tr th {\n",
       "        vertical-align: top;\n",
       "    }\n",
       "\n",
       "    .dataframe thead th {\n",
       "        text-align: right;\n",
       "    }\n",
       "</style>\n",
       "<table border=\"1\" class=\"dataframe\">\n",
       "  <thead>\n",
       "    <tr style=\"text-align: right;\">\n",
       "      <th></th>\n",
       "      <th>sentiment</th>\n",
       "      <th>comment</th>\n",
       "    </tr>\n",
       "  </thead>\n",
       "  <tbody>\n",
       "    <tr>\n",
       "      <th>0</th>\n",
       "      <td>The amoung of missing records is:</td>\n",
       "      <td>The amoung of missing records is:</td>\n",
       "    </tr>\n",
       "    <tr>\n",
       "      <th>1</th>\n",
       "      <td>1</td>\n",
       "      <td>0</td>\n",
       "    </tr>\n",
       "  </tbody>\n",
       "</table>\n",
       "</div>"
      ],
      "text/plain": [
       "                            sentiment                             comment\n",
       "0  The amoung of missing records is:   The amoung of missing records is: \n",
       "1                                   1                                   0"
      ]
     },
     "execution_count": 18,
     "metadata": {},
     "output_type": "execute_result"
    }
   ],
   "source": [
    "analysis.isnull().apply(lambda x: dmh.check_missing_values(x))"
   ]
  },
  {
   "cell_type": "code",
   "execution_count": 19,
   "id": "b10f1f40-05ee-4398-9408-a5154fd04f4f",
   "metadata": {},
   "outputs": [
    {
     "data": {
      "text/html": [
       "<div>\n",
       "<style scoped>\n",
       "    .dataframe tbody tr th:only-of-type {\n",
       "        vertical-align: middle;\n",
       "    }\n",
       "\n",
       "    .dataframe tbody tr th {\n",
       "        vertical-align: top;\n",
       "    }\n",
       "\n",
       "    .dataframe thead th {\n",
       "        text-align: right;\n",
       "    }\n",
       "</style>\n",
       "<table border=\"1\" class=\"dataframe\">\n",
       "  <thead>\n",
       "    <tr style=\"text-align: right;\">\n",
       "      <th></th>\n",
       "      <th>sentiment</th>\n",
       "      <th>comment</th>\n",
       "    </tr>\n",
       "  </thead>\n",
       "  <tbody>\n",
       "    <tr>\n",
       "      <th>0</th>\n",
       "      <td>The amoung of missing records is:</td>\n",
       "      <td>The amoung of missing records is:</td>\n",
       "    </tr>\n",
       "    <tr>\n",
       "      <th>1</th>\n",
       "      <td>0</td>\n",
       "      <td>0</td>\n",
       "    </tr>\n",
       "  </tbody>\n",
       "</table>\n",
       "</div>"
      ],
      "text/plain": [
       "                            sentiment                             comment\n",
       "0  The amoung of missing records is:   The amoung of missing records is: \n",
       "1                                   0                                   0"
      ]
     },
     "execution_count": 19,
     "metadata": {},
     "output_type": "execute_result"
    }
   ],
   "source": [
    "analysis.dropna(inplace=True)\n",
    "analysis.isnull().apply(lambda x: dmh.check_missing_values(x))"
   ]
  },
  {
   "cell_type": "code",
   "execution_count": 20,
   "id": "1b5c003b-fe23-4d23-a120-f1a8f18d4f00",
   "metadata": {},
   "outputs": [
    {
     "data": {
      "text/plain": [
       "0       False\n",
       "1       False\n",
       "2       False\n",
       "3       False\n",
       "4       False\n",
       "        ...  \n",
       "1495    False\n",
       "1496    False\n",
       "1497    False\n",
       "1498    False\n",
       "1499    False\n",
       "Length: 1500, dtype: bool"
      ]
     },
     "execution_count": 20,
     "metadata": {},
     "output_type": "execute_result"
    }
   ],
   "source": [
    "analysis.duplicated()"
   ]
  },
  {
   "cell_type": "code",
   "execution_count": 21,
   "id": "b860b3ec-37ba-4e27-8f1b-539de25f9b69",
   "metadata": {},
   "outputs": [
    {
     "name": "stdout",
     "output_type": "stream",
     "text": [
      "ttl:  1 comment:  1\n"
     ]
    }
   ],
   "source": [
    "ttl = sum(analysis.duplicated())\n",
    "cm = sum(analysis.duplicated(\"comment\"))\n",
    "print(\"ttl: \", ttl, \"comment: \", cm)"
   ]
  },
  {
   "cell_type": "code",
   "execution_count": 22,
   "id": "79106b27-a12f-426f-b17b-f32cf48a296a",
   "metadata": {},
   "outputs": [
    {
     "data": {
      "text/plain": [
       "1498"
      ]
     },
     "execution_count": 22,
     "metadata": {},
     "output_type": "execute_result"
    }
   ],
   "source": [
    "analysis.drop_duplicates(keep=False, inplace=True)\n",
    "len(analysis)"
   ]
  },
  {
   "cell_type": "code",
   "execution_count": 23,
   "id": "4cacc89e-7fa5-4426-8903-ace47a1c7ad3",
   "metadata": {},
   "outputs": [],
   "source": [
    "# Data Preprocessing"
   ]
  },
  {
   "cell_type": "code",
   "execution_count": 24,
   "id": "f8a6be92-2ec8-46b2-925c-0e4d711f02d6",
   "metadata": {},
   "outputs": [
    {
     "data": {
      "text/plain": [
       "1000"
      ]
     },
     "execution_count": 24,
     "metadata": {},
     "output_type": "execute_result"
    }
   ],
   "source": [
    "analysisSample = analysis.sample(n = 1000)\n",
    "len(analysisSample)"
   ]
  },
  {
   "cell_type": "code",
   "execution_count": 25,
   "id": "1ee65d2d-a7ae-4c9d-a4c0-494775fdde1f",
   "metadata": {},
   "outputs": [
    {
     "data": {
      "text/html": [
       "<div>\n",
       "<style scoped>\n",
       "    .dataframe tbody tr th:only-of-type {\n",
       "        vertical-align: middle;\n",
       "    }\n",
       "\n",
       "    .dataframe tbody tr th {\n",
       "        vertical-align: top;\n",
       "    }\n",
       "\n",
       "    .dataframe thead th {\n",
       "        text-align: right;\n",
       "    }\n",
       "</style>\n",
       "<table border=\"1\" class=\"dataframe\">\n",
       "  <thead>\n",
       "    <tr style=\"text-align: right;\">\n",
       "      <th></th>\n",
       "      <th>sentiment</th>\n",
       "      <th>comment</th>\n",
       "    </tr>\n",
       "  </thead>\n",
       "  <tbody>\n",
       "    <tr>\n",
       "      <th>1452</th>\n",
       "      <td>not nostalgia</td>\n",
       "      <td>I love his music and always have. Beautiful vo...</td>\n",
       "    </tr>\n",
       "    <tr>\n",
       "      <th>492</th>\n",
       "      <td>nostalgia</td>\n",
       "      <td>My mother, an incurable romantic from Belfast,...</td>\n",
       "    </tr>\n",
       "    <tr>\n",
       "      <th>151</th>\n",
       "      <td>not nostalgia</td>\n",
       "      <td>my name is thomas but know by tommy and my wif...</td>\n",
       "    </tr>\n",
       "    <tr>\n",
       "      <th>1288</th>\n",
       "      <td>not nostalgia</td>\n",
       "      <td>this music make up my day ,I real love listeni...</td>\n",
       "    </tr>\n",
       "    <tr>\n",
       "      <th>1166</th>\n",
       "      <td>not nostalgia</td>\n",
       "      <td>Young, gifted and well done for doing what a l...</td>\n",
       "    </tr>\n",
       "  </tbody>\n",
       "</table>\n",
       "</div>"
      ],
      "text/plain": [
       "          sentiment                                            comment\n",
       "1452  not nostalgia  I love his music and always have. Beautiful vo...\n",
       "492       nostalgia  My mother, an incurable romantic from Belfast,...\n",
       "151   not nostalgia  my name is thomas but know by tommy and my wif...\n",
       "1288  not nostalgia  this music make up my day ,I real love listeni...\n",
       "1166  not nostalgia  Young, gifted and well done for doing what a l..."
      ]
     },
     "execution_count": 25,
     "metadata": {},
     "output_type": "execute_result"
    }
   ],
   "source": [
    "analysisSample[:5]"
   ]
  },
  {
   "cell_type": "code",
   "execution_count": 26,
   "id": "cede50dc-698f-4cce-95c6-9b6da17e5e2c",
   "metadata": {},
   "outputs": [
    {
     "name": "stdout",
     "output_type": "stream",
     "text": [
      "sentiment\n",
      "nostalgia        750\n",
      "not nostalgia    748\n",
      "Name: count, dtype: int64\n"
     ]
    },
    {
     "data": {
      "text/plain": [
       "<Axes: title={'center': 'Category distribution'}, xlabel='sentiment'>"
      ]
     },
     "execution_count": 26,
     "metadata": {},
     "output_type": "execute_result"
    },
    {
     "data": {
      "image/png": "[encoded data removed]",
      "text/plain": [
       "<Figure size 500x300 with 1 Axes>"
      ]
     },
     "metadata": {},
     "output_type": "display_data"
    }
   ],
   "source": [
    "print(analysis.sentiment.value_counts())\n",
    "analysis.sentiment.value_counts().plot(kind = 'bar',\n",
    "                                    title = 'Category distribution',\n",
    "                                    ylim = [0, 800],        \n",
    "                                    rot = 0, fontsize = 11, figsize = (5,3))"
   ]
  },
  {
   "cell_type": "code",
   "execution_count": 27,
   "id": "58e5c37a-e100-4f41-99c2-7e95b618983a",
   "metadata": {},
   "outputs": [
    {
     "name": "stdout",
     "output_type": "stream",
     "text": [
      "sentiment\n",
      "not nostalgia    504\n",
      "nostalgia        496\n",
      "Name: count, dtype: int64\n"
     ]
    },
    {
     "data": {
      "text/plain": [
       "<Axes: title={'center': 'Category distribution'}, xlabel='sentiment'>"
      ]
     },
     "execution_count": 27,
     "metadata": {},
     "output_type": "execute_result"
    },
    {
     "data": {
      "image/png": "[encoded data removed]",
      "text/plain": [
       "<Figure size 500x300 with 1 Axes>"
      ]
     },
     "metadata": {},
     "output_type": "display_data"
    }
   ],
   "source": [
    "print(analysisSample.sentiment.value_counts())\n",
    "analysisSample.sentiment.value_counts().plot(kind = 'bar',\n",
    "                                    title = 'Category distribution',\n",
    "                                    ylim = [0, 800],        \n",
    "                                    rot = 0, fontsize = 11, figsize = (5,3))"
   ]
  },
  {
   "cell_type": "code",
   "execution_count": 28,
   "id": "325d59e7-ec4c-4d36-81c4-73566d8f86de",
   "metadata": {},
   "outputs": [],
   "source": [
    "analysis[\"unigrams\"] = analysis[\"comment\"].apply(lambda x: dmh.tokenize_text(x))"
   ]
  },
  {
   "cell_type": "code",
   "execution_count": 29,
   "id": "52bb8ace-0f51-43ac-a3d7-c00d081f6558",
   "metadata": {},
   "outputs": [
    {
     "data": {
      "text/plain": [
       "0    [He, was, a, singer, with, a, golden, voice, t...\n",
       "1    [The, mist, beautiful, voice, ever, I, listene...\n",
       "2    [I, have, most, of, Mr., Reeves, songs, ., Alw...\n",
       "3    [30, day, leave, from, 1st, tour, in, Viet, Na...\n",
       "4    [listening, to, his, songs, reminds, me, of, m...\n",
       "Name: unigrams, dtype: object"
      ]
     },
     "execution_count": 29,
     "metadata": {},
     "output_type": "execute_result"
    }
   ],
   "source": [
    "analysis[:5][\"unigrams\"]"
   ]
  },
  {
   "cell_type": "code",
   "execution_count": 30,
   "id": "956f17ae-36e4-4c2d-94a0-8319ef35eabe",
   "metadata": {},
   "outputs": [
    {
     "data": {
      "text/html": [
       "<div>\n",
       "<style scoped>\n",
       "    .dataframe tbody tr th:only-of-type {\n",
       "        vertical-align: middle;\n",
       "    }\n",
       "\n",
       "    .dataframe tbody tr th {\n",
       "        vertical-align: top;\n",
       "    }\n",
       "\n",
       "    .dataframe thead th {\n",
       "        text-align: right;\n",
       "    }\n",
       "</style>\n",
       "<table border=\"1\" class=\"dataframe\">\n",
       "  <thead>\n",
       "    <tr style=\"text-align: right;\">\n",
       "      <th></th>\n",
       "      <th>sentiment</th>\n",
       "      <th>comment</th>\n",
       "      <th>unigrams</th>\n",
       "    </tr>\n",
       "  </thead>\n",
       "  <tbody>\n",
       "    <tr>\n",
       "      <th>0</th>\n",
       "      <td>not nostalgia</td>\n",
       "      <td>He was a singer with a golden voice that I lov...</td>\n",
       "      <td>[He, was, a, singer, with, a, golden, voice, t...</td>\n",
       "    </tr>\n",
       "    <tr>\n",
       "      <th>1</th>\n",
       "      <td>nostalgia</td>\n",
       "      <td>The mist beautiful voice ever I listened to hi...</td>\n",
       "      <td>[The, mist, beautiful, voice, ever, I, listene...</td>\n",
       "    </tr>\n",
       "    <tr>\n",
       "      <th>2</th>\n",
       "      <td>nostalgia</td>\n",
       "      <td>I have most of Mr. Reeves songs.  Always love ...</td>\n",
       "      <td>[I, have, most, of, Mr., Reeves, songs, ., Alw...</td>\n",
       "    </tr>\n",
       "    <tr>\n",
       "      <th>3</th>\n",
       "      <td>not nostalgia</td>\n",
       "      <td>30 day leave from 1st tour in Viet Nam to conv...</td>\n",
       "      <td>[30, day, leave, from, 1st, tour, in, Viet, Na...</td>\n",
       "    </tr>\n",
       "    <tr>\n",
       "      <th>4</th>\n",
       "      <td>nostalgia</td>\n",
       "      <td>listening to his songs reminds me of my mum wh...</td>\n",
       "      <td>[listening, to, his, songs, reminds, me, of, m...</td>\n",
       "    </tr>\n",
       "  </tbody>\n",
       "</table>\n",
       "</div>"
      ],
      "text/plain": [
       "       sentiment                                            comment  \\\n",
       "0  not nostalgia  He was a singer with a golden voice that I lov...   \n",
       "1      nostalgia  The mist beautiful voice ever I listened to hi...   \n",
       "2      nostalgia  I have most of Mr. Reeves songs.  Always love ...   \n",
       "3  not nostalgia  30 day leave from 1st tour in Viet Nam to conv...   \n",
       "4      nostalgia  listening to his songs reminds me of my mum wh...   \n",
       "\n",
       "                                            unigrams  \n",
       "0  [He, was, a, singer, with, a, golden, voice, t...  \n",
       "1  [The, mist, beautiful, voice, ever, I, listene...  \n",
       "2  [I, have, most, of, Mr., Reeves, songs, ., Alw...  \n",
       "3  [30, day, leave, from, 1st, tour, in, Viet, Na...  \n",
       "4  [listening, to, his, songs, reminds, me, of, m...  "
      ]
     },
     "execution_count": 30,
     "metadata": {},
     "output_type": "execute_result"
    }
   ],
   "source": [
    "analysis[:5]"
   ]
  },
  {
   "cell_type": "code",
   "execution_count": 31,
   "id": "6604f206-4a47-4db4-8200-be0020fe42f4",
   "metadata": {},
   "outputs": [
    {
     "data": {
      "text/plain": [
       "[['He',\n",
       "  'was',\n",
       "  'a',\n",
       "  'singer',\n",
       "  'with',\n",
       "  'a',\n",
       "  'golden',\n",
       "  'voice',\n",
       "  'that',\n",
       "  'I',\n",
       "  'love',\n",
       "  'to',\n",
       "  'hear',\n",
       "  'all',\n",
       "  'the',\n",
       "  'time',\n",
       "  '.',\n",
       "  'I',\n",
       "  'was',\n",
       "  'his',\n",
       "  'great',\n",
       "  'fan',\n",
       "  'at',\n",
       "  'the',\n",
       "  'age',\n",
       "  'of',\n",
       "  '16years',\n",
       "  'in',\n",
       "  'those',\n",
       "  'days',\n",
       "  'and',\n",
       "  'still',\n",
       "  'now',\n",
       "  '.',\n",
       "  'Although',\n",
       "  'we',\n",
       "  'have',\n",
       "  'many',\n",
       "  'singers',\n",
       "  'now',\n",
       "  ',',\n",
       "  'but',\n",
       "  ',',\n",
       "  'I',\n",
       "  'can',\n",
       "  'vouch',\n",
       "  'for',\n",
       "  'Jim',\n",
       "  'Reeves',\n",
       "  'all',\n",
       "  'the',\n",
       "  'time',\n",
       "  '.',\n",
       "  'You',\n",
       "  'feel',\n",
       "  'relaxed',\n",
       "  ',',\n",
       "  'emotional',\n",
       "  'and',\n",
       "  'loving',\n",
       "  '.',\n",
       "  'Thank',\n",
       "  'you',\n",
       "  'Lord',\n",
       "  'for',\n",
       "  'his',\n",
       "  'life',\n",
       "  '.']]"
      ]
     },
     "execution_count": 31,
     "metadata": {},
     "output_type": "execute_result"
    }
   ],
   "source": [
    "list(analysis[:1][\"unigrams\"])"
   ]
  },
  {
   "cell_type": "code",
   "execution_count": 32,
   "id": "ce0aefee-55c9-40aa-b279-c2f582c0dcaa",
   "metadata": {
    "scrolled": true
   },
   "outputs": [
    {
     "name": "stdout",
     "output_type": "stream",
     "text": [
      "<Compressed Sparse Row sparse matrix of dtype 'int64'\n",
      "\twith 45 stored elements and shape (1, 3730)>\n",
      "  Coords\tValues\n",
      "  (0, 1598)\t1\n",
      "  (0, 3570)\t2\n",
      "  (0, 2973)\t1\n",
      "  (0, 3650)\t1\n",
      "  (0, 1470)\t1\n",
      "  (0, 3534)\t1\n",
      "  (0, 3282)\t1\n",
      "  (0, 2028)\t1\n",
      "  (0, 3336)\t1\n",
      "  (0, 1606)\t1\n",
      "  (0, 233)\t2\n",
      "  (0, 3284)\t3\n",
      "  (0, 3328)\t2\n",
      "  (0, 1651)\t2\n",
      "  (0, 1512)\t1\n",
      "  (0, 1249)\t1\n",
      "  (0, 323)\t1\n",
      "  (0, 214)\t1\n",
      "  (0, 2341)\t1\n",
      "  (0, 15)\t1\n",
      "  (0, 1733)\t1\n",
      "  (0, 3304)\t1\n",
      "  (0, 907)\t1\n",
      "  (0, 258)\t2\n",
      "  (0, 3124)\t1\n",
      "  (0, 2328)\t2\n",
      "  (0, 245)\t1\n",
      "  (0, 3581)\t1\n",
      "  (0, 1591)\t1\n",
      "  (0, 2082)\t1\n",
      "  (0, 2974)\t1\n",
      "  (0, 573)\t1\n",
      "  (0, 593)\t1\n",
      "  (0, 3538)\t1\n",
      "  (0, 1347)\t2\n",
      "  (0, 1833)\t1\n",
      "  (0, 2671)\t1\n",
      "  (0, 3713)\t2\n",
      "  (0, 1272)\t1\n",
      "  (0, 2688)\t1\n",
      "  (0, 1125)\t1\n",
      "  (0, 2035)\t1\n",
      "  (0, 3278)\t1\n",
      "  (0, 2018)\t1\n",
      "  (0, 1964)\t1\n"
     ]
    }
   ],
   "source": [
    "count_vect = CountVectorizer()\n",
    "analysisCounts = count_vect.fit_transform(analysis.comment)\n",
    "print(analysisCounts[0])"
   ]
  },
  {
   "cell_type": "code",
   "execution_count": 33,
   "id": "6d655e77-ed84-43ea-b869-92ae07ed70b0",
   "metadata": {},
   "outputs": [
    {
     "data": {
      "text/plain": [
       "'hear'"
      ]
     },
     "execution_count": 33,
     "metadata": {},
     "output_type": "execute_result"
    }
   ],
   "source": [
    "count_vect.get_feature_names_out()[1606]"
   ]
  },
  {
   "cell_type": "code",
   "execution_count": 34,
   "id": "ef5e722e-4f5c-4bff-8d31-1a248064543f",
   "metadata": {},
   "outputs": [
    {
     "data": {
      "text/plain": [
       "'relaxed'"
      ]
     },
     "execution_count": 34,
     "metadata": {},
     "output_type": "execute_result"
    }
   ],
   "source": [
    "count_vect.get_feature_names_out()[2688]"
   ]
  },
  {
   "cell_type": "code",
   "execution_count": 35,
   "id": "9ad0d1fb-e5bf-43c5-93fd-6723b0faadea",
   "metadata": {},
   "outputs": [
    {
     "data": {
      "text/plain": [
       "['am', 'craving', 'for', 'hawaiian', 'pizza', 'right', 'now']"
      ]
     },
     "execution_count": 35,
     "metadata": {},
     "output_type": "execute_result"
    }
   ],
   "source": [
    "textAnalyze =  count_vect.build_analyzer()\n",
    "textAnalyze(\"I am craving for a hawaiian pizza right now\")"
   ]
  },
  {
   "cell_type": "code",
   "execution_count": 36,
   "id": "c6a04873-fff7-4e25-bd3f-291f714c04d9",
   "metadata": {
    "scrolled": true
   },
   "outputs": [
    {
     "name": "stdout",
     "output_type": "stream",
     "text": [
      "He\n",
      "was\n",
      "a\n",
      "singer\n",
      "with\n",
      "a\n",
      "golden\n",
      "voice\n",
      "that\n",
      "I\n",
      "love\n",
      "to\n",
      "hear\n",
      "all\n",
      "the\n",
      "time\n",
      ".\n",
      "I\n",
      "was\n",
      "his\n",
      "great\n",
      "fan\n",
      "at\n",
      "the\n",
      "age\n",
      "of\n",
      "16years\n",
      "in\n",
      "those\n",
      "days\n",
      "and\n",
      "still\n",
      "now\n",
      ".\n",
      "Although\n",
      "we\n",
      "have\n",
      "many\n",
      "singers\n",
      "now\n",
      ",\n",
      "but\n",
      ",\n",
      "I\n",
      "can\n",
      "vouch\n",
      "for\n",
      "Jim\n",
      "Reeves\n",
      "all\n",
      "the\n",
      "time\n",
      ".\n",
      "You\n",
      "feel\n",
      "relaxed\n",
      ",\n",
      "emotional\n",
      "and\n",
      "loving\n",
      ".\n",
      "Thank\n",
      "you\n",
      "Lord\n",
      "for\n",
      "his\n",
      "life\n",
      ".\n"
     ]
    }
   ],
   "source": [
    "test = \"\\n\".join(analysis[\"unigrams\"][0])\n",
    "print(test)"
   ]
  },
  {
   "cell_type": "code",
   "execution_count": 37,
   "id": "462df4e3-fe04-4554-be6e-80138b4a6894",
   "metadata": {},
   "outputs": [
    {
     "data": {
      "text/plain": [
       "['he',\n",
       " 'was',\n",
       " 'singer',\n",
       " 'with',\n",
       " 'golden',\n",
       " 'voice',\n",
       " 'that',\n",
       " 'love',\n",
       " 'to',\n",
       " 'hear',\n",
       " 'all',\n",
       " 'the',\n",
       " 'time',\n",
       " 'was',\n",
       " 'his',\n",
       " 'great',\n",
       " 'fan',\n",
       " 'at',\n",
       " 'the',\n",
       " 'age',\n",
       " 'of',\n",
       " '16years',\n",
       " 'in',\n",
       " 'those',\n",
       " 'days',\n",
       " 'and',\n",
       " 'still',\n",
       " 'now',\n",
       " 'although',\n",
       " 'we',\n",
       " 'have',\n",
       " 'many',\n",
       " 'singers',\n",
       " 'now',\n",
       " 'but',\n",
       " 'can',\n",
       " 'vouch',\n",
       " 'for',\n",
       " 'jim',\n",
       " 'reeves',\n",
       " 'all',\n",
       " 'the',\n",
       " 'time',\n",
       " 'you',\n",
       " 'feel',\n",
       " 'relaxed',\n",
       " 'emotional',\n",
       " 'and',\n",
       " 'loving',\n",
       " 'thank',\n",
       " 'you',\n",
       " 'lord',\n",
       " 'for',\n",
       " 'his',\n",
       " 'life']"
      ]
     },
     "execution_count": 37,
     "metadata": {},
     "output_type": "execute_result"
    }
   ],
   "source": [
    "textAnalyze(test)"
   ]
  },
  {
   "cell_type": "code",
   "execution_count": 38,
   "id": "7aeb137b-f905-4952-b445-1135825613a1",
   "metadata": {},
   "outputs": [
    {
     "data": {
      "text/plain": [
       "(1498, 3730)"
      ]
     },
     "execution_count": 38,
     "metadata": {},
     "output_type": "execute_result"
    }
   ],
   "source": [
    "analysisCounts.shape"
   ]
  },
  {
   "cell_type": "code",
   "execution_count": 39,
   "id": "d9a2fa77-40d4-49db-914d-6272b25f098d",
   "metadata": {},
   "outputs": [
    {
     "data": {
      "text/plain": [
       "array(['captial', 'captivating', 'captured', 'car', 'cardiff', 'care',\n",
       "       'cared', 'carefree', 'careful', 'carefully', 'cares'], dtype=object)"
      ]
     },
     "execution_count": 39,
     "metadata": {},
     "output_type": "execute_result"
    }
   ],
   "source": [
    "count_vect.get_feature_names_out()[600:611]"
   ]
  },
  {
   "cell_type": "code",
   "execution_count": 40,
   "id": "6a27466e-5765-44ec-83fc-9a12ee8c7420",
   "metadata": {},
   "outputs": [
    {
     "data": {
      "text/plain": [
       "array([[0, 0, 0, 0, 0, 0, 0, 0, 0, 0, 0, 0, 0, 0, 0, 1, 0, 0, 0, 0, 0, 0,\n",
       "        0, 0, 0, 0, 0, 0, 0, 0, 0, 0, 0, 0, 0, 0, 0, 0, 0, 0, 0, 0, 0, 0,\n",
       "        0, 0, 0, 0, 0, 0, 0, 0, 0, 0, 0, 0, 0, 0, 0, 0, 0, 0, 0, 0, 0, 0,\n",
       "        0, 0, 0, 0, 0, 0, 0, 0, 0, 0, 0, 0, 0, 0, 0, 0, 0, 0, 0, 0, 0, 0,\n",
       "        0, 0, 0, 0, 0, 0, 0, 0, 0, 0, 0, 0],\n",
       "       [0, 0, 0, 0, 0, 0, 0, 0, 0, 0, 0, 0, 0, 0, 0, 0, 0, 0, 0, 0, 0, 0,\n",
       "        0, 0, 0, 0, 0, 0, 0, 0, 0, 0, 0, 0, 0, 0, 0, 0, 0, 0, 0, 0, 0, 0,\n",
       "        0, 0, 0, 0, 0, 0, 0, 0, 0, 0, 0, 0, 0, 0, 0, 0, 0, 0, 0, 0, 0, 0,\n",
       "        0, 0, 0, 0, 0, 0, 0, 0, 0, 0, 0, 0, 0, 0, 0, 0, 0, 0, 0, 0, 0, 0,\n",
       "        0, 0, 0, 0, 0, 0, 0, 0, 0, 0, 0, 0],\n",
       "       [0, 0, 0, 0, 0, 0, 0, 0, 0, 0, 0, 0, 0, 0, 0, 0, 1, 0, 0, 0, 0, 0,\n",
       "        0, 0, 0, 0, 0, 0, 0, 0, 0, 0, 0, 0, 0, 0, 0, 0, 0, 0, 0, 0, 0, 0,\n",
       "        0, 0, 0, 0, 0, 0, 0, 0, 0, 0, 0, 0, 0, 0, 0, 0, 0, 0, 0, 0, 0, 0,\n",
       "        0, 0, 0, 0, 0, 0, 0, 0, 0, 0, 0, 0, 0, 0, 0, 0, 0, 0, 0, 0, 0, 0,\n",
       "        0, 0, 0, 0, 0, 0, 0, 0, 0, 0, 0, 0],\n",
       "       [0, 0, 0, 0, 0, 0, 0, 0, 0, 0, 0, 0, 0, 0, 0, 0, 0, 0, 0, 0, 0, 0,\n",
       "        0, 0, 0, 0, 0, 0, 0, 0, 0, 0, 0, 0, 0, 0, 0, 0, 0, 0, 0, 0, 0, 0,\n",
       "        0, 0, 0, 0, 0, 0, 0, 0, 0, 0, 0, 0, 0, 0, 0, 0, 0, 0, 1, 0, 0, 0,\n",
       "        0, 0, 0, 0, 0, 0, 0, 0, 0, 0, 0, 0, 0, 0, 0, 0, 0, 0, 0, 0, 0, 0,\n",
       "        0, 0, 1, 1, 0, 0, 0, 0, 0, 0, 0, 0],\n",
       "       [0, 0, 0, 0, 0, 0, 0, 0, 0, 0, 0, 0, 0, 0, 0, 0, 0, 0, 0, 0, 0, 0,\n",
       "        0, 0, 0, 0, 0, 0, 0, 0, 0, 0, 0, 0, 0, 0, 0, 0, 0, 0, 0, 0, 0, 0,\n",
       "        0, 0, 0, 0, 0, 0, 0, 0, 0, 0, 0, 0, 0, 0, 0, 0, 0, 0, 0, 0, 0, 0,\n",
       "        0, 0, 0, 0, 0, 0, 0, 0, 0, 0, 0, 0, 0, 0, 0, 0, 0, 0, 0, 0, 0, 0,\n",
       "        0, 0, 0, 0, 0, 0, 0, 0, 0, 0, 0, 0]], dtype=int64)"
      ]
     },
     "execution_count": 40,
     "metadata": {},
     "output_type": "execute_result"
    }
   ],
   "source": [
    "analysisCounts[:5, :100].toarray()"
   ]
  },
  {
   "cell_type": "code",
   "execution_count": 41,
   "id": "1e2f3a8f-aa52-4c6f-aed6-9933c99fddde",
   "metadata": {
    "scrolled": true
   },
   "outputs": [
    {
     "data": {
      "text/plain": [
       "array([[0, 0, 0, 0, 0, 0, 0, 0, 0, 0, 0, 0, 0, 0, 0, 1, 0, 0, 0, 0],\n",
       "       [0, 0, 0, 0, 0, 0, 0, 0, 0, 0, 0, 0, 0, 0, 0, 0, 0, 0, 0, 0],\n",
       "       [0, 0, 0, 0, 0, 0, 0, 0, 0, 0, 0, 0, 0, 0, 0, 0, 1, 0, 0, 0],\n",
       "       [0, 0, 0, 0, 0, 0, 0, 0, 0, 0, 0, 0, 0, 0, 0, 0, 0, 0, 0, 0],\n",
       "       [0, 0, 0, 0, 0, 0, 0, 0, 0, 0, 0, 0, 0, 0, 0, 0, 0, 0, 0, 0],\n",
       "       [0, 0, 0, 0, 0, 0, 0, 0, 0, 0, 0, 0, 0, 0, 0, 0, 0, 0, 0, 0],\n",
       "       [0, 0, 0, 0, 0, 0, 0, 0, 0, 0, 0, 0, 0, 0, 0, 0, 0, 0, 0, 0],\n",
       "       [0, 0, 0, 0, 0, 0, 0, 0, 0, 0, 0, 0, 0, 0, 0, 0, 0, 0, 0, 0],\n",
       "       [0, 0, 0, 0, 0, 0, 0, 0, 0, 0, 0, 0, 0, 0, 0, 0, 0, 0, 0, 0],\n",
       "       [0, 0, 0, 0, 0, 0, 0, 0, 0, 0, 0, 0, 0, 0, 0, 0, 0, 0, 0, 0],\n",
       "       [0, 0, 0, 0, 0, 0, 0, 0, 0, 0, 0, 0, 0, 0, 0, 0, 0, 0, 0, 0],\n",
       "       [0, 0, 0, 0, 0, 0, 0, 0, 0, 0, 0, 0, 0, 0, 0, 0, 0, 0, 1, 0],\n",
       "       [0, 0, 0, 0, 0, 0, 0, 0, 0, 0, 0, 0, 0, 0, 0, 0, 0, 0, 0, 0],\n",
       "       [0, 0, 0, 0, 0, 0, 0, 0, 0, 0, 0, 0, 0, 0, 0, 0, 0, 0, 0, 0],\n",
       "       [0, 0, 0, 0, 0, 0, 0, 0, 0, 0, 0, 0, 0, 0, 0, 0, 0, 0, 0, 0],\n",
       "       [0, 0, 0, 0, 0, 0, 0, 0, 0, 0, 0, 0, 0, 0, 0, 0, 0, 0, 0, 0],\n",
       "       [0, 0, 0, 0, 0, 1, 0, 0, 0, 0, 0, 0, 0, 0, 0, 0, 0, 0, 0, 0],\n",
       "       [0, 0, 0, 0, 0, 0, 0, 0, 0, 0, 0, 0, 0, 0, 0, 0, 0, 0, 0, 0],\n",
       "       [0, 0, 0, 0, 0, 0, 0, 0, 0, 0, 0, 0, 0, 0, 0, 0, 0, 0, 0, 0],\n",
       "       [0, 0, 0, 0, 0, 0, 0, 0, 0, 0, 0, 0, 0, 0, 0, 0, 0, 0, 0, 0]],\n",
       "      dtype=int64)"
      ]
     },
     "execution_count": 41,
     "metadata": {},
     "output_type": "execute_result"
    }
   ],
   "source": [
    "plotX = [\"term_\" + str(i) for i in count_vect.get_feature_names_out()[:20]]\n",
    "plotY = [\"doc_\" + str(i) for i in list(analysis.index)[:20]]\n",
    "plotZ = analysisCounts[:20, :20].toarray()\n",
    "plotZ"
   ]
  },
  {
   "cell_type": "code",
   "execution_count": null,
   "id": "65ed7f3f-37d5-4c5a-84ed-6b39092a7590",
   "metadata": {},
   "outputs": [],
   "source": [
    "print(plotX)"
   ]
  },
  {
   "cell_type": "code",
   "execution_count": null,
   "id": "ab8df81c-906c-470e-a32e-3f86ecba8c8e",
   "metadata": {},
   "outputs": [],
   "source": [
    "print(plotY)"
   ]
  },
  {
   "cell_type": "code",
   "execution_count": null,
   "id": "18409671-f16e-4e09-aed9-ba605da811c8",
   "metadata": {},
   "outputs": [],
   "source": [
    "import seaborn as sns\n",
    "import matplotlib.pyplot as plt\n",
    "%matplotlib inline\n",
    "\n",
    "dfPlot = pd.DataFrame(plotZ, columns = plotX, index = plotY)\n",
    "plt.subplots(figsize=(9, 7))\n",
    "ax = sns.heatmap(dfPlot,\n",
    "                 cmap=\"PuRd\",\n",
    "                 vmin=0, vmax=1, annot=True)"
   ]
  },
  {
   "cell_type": "code",
   "execution_count": null,
   "id": "da509b8d-444b-4f42-9359-542b4d29e025",
   "metadata": {},
   "outputs": [],
   "source": [
    "term_frequencies = []\n",
    "for j in range(0,analysisCounts.shape[1]):\n",
    "    term_frequencies.append(sum(analysisCounts[:,j].toarray()))"
   ]
  },
  {
   "cell_type": "code",
   "execution_count": null,
   "id": "87155b3b-5ff0-4a3d-974b-550d0fd85a24",
   "metadata": {},
   "outputs": [],
   "source": [
    "term_frequencies = np.asarray(analysisCounts.sum(axis=0))[0]\n",
    "print(term_frequencies[4])"
   ]
  },
  {
   "cell_type": "code",
   "execution_count": null,
   "id": "453677ac-983e-4b43-b172-545af9f14351",
   "metadata": {},
   "outputs": [],
   "source": [
    "plt.subplots(figsize=(100, 10))\n",
    "g = sns.barplot(x=count_vect.get_feature_names_out()[:300], \n",
    "            y=term_frequencies[:300])\n",
    "g.set_xticklabels(count_vect.get_feature_names_out()[:300], rotation = 90);"
   ]
  },
  {
   "cell_type": "code",
   "execution_count": null,
   "id": "dec25954-8033-4ae3-a9a8-dcfed1ac9543",
   "metadata": {},
   "outputs": [],
   "source": [
    "term_frequencies_log = [math.log(i) for i in term_frequencies]\n",
    "plt.subplots(figsize=(100, 10))\n",
    "g = sns.barplot(x=count_vect.get_feature_names_out()[:300],\n",
    "                y=term_frequencies_log[:300])\n",
    "g.set_xticklabels(count_vect.get_feature_names_out()[:300], rotation = 90);"
   ]
  },
  {
   "cell_type": "code",
   "execution_count": null,
   "id": "656e601f-d2f1-4613-b548-ba81a3657bcf",
   "metadata": {},
   "outputs": [],
   "source": [
    "categories = analysis[\"sentiment\"].unique()\n",
    "category_dfs = {}  \n",
    "for category in categories:\n",
    "    # Filter the original DataFrame by category\n",
    "    category_dfs[category] = analysis[analysis[\"sentiment\"] == category].copy()\n",
    " # Function to create term-document frequency DataFrame for each category\n",
    "def create_term_document_df(df):\n",
    "    count_vect = CountVectorizer()  # Initialize the CountVectorizer\n",
    "    analysisCounts = count_vect.fit_transform(df[\"comment\"])  # Transform the text data into word counts\n",
    "    \n",
    "    # Get the unique words (vocabulary) from the vectorizer\n",
    "    words = count_vect.get_feature_names_out()\n",
    "    \n",
    "    # Create a DataFrame where rows are documents and columns are words\n",
    "    term_document_df = pd.DataFrame(analysisCounts.toarray(), columns=words)\n",
    "    \n",
    "    return term_document_df\n",
    " # Create term-document frequency DataFrames for each category\n",
    "term_document_dfs = {}  # Dictionary to store term-document DataFrames for each category\n",
    "for category in categories:\n",
    "    term_document_dfs[category] = create_term_document_df(category_dfs[category])"
   ]
  },
  {
   "cell_type": "code",
   "execution_count": null,
   "id": "ccf6c490-249c-41aa-8f9b-d3cf78328720",
   "metadata": {},
   "outputs": [],
   "source": [
    "category_number = 1\n",
    "print(f\"Filtered Term-Document Frequency DataFrame for Category {categories[category_number]}:\")\n",
    "term_document_dfs[categories[category_number]]"
   ]
  },
  {
   "cell_type": "code",
   "execution_count": null,
   "id": "0bb6e2f1-93e0-4a7f-8b9f-c4dbc9b9ee73",
   "metadata": {},
   "outputs": [],
   "source": [
    "category_number = 1\n",
    "word_counts = term_document_dfs[categories[category_number]].sum(axis=0).to_numpy()\n",
    " \n",
    "# Visualize the frequency distribution\n",
    "plt.figure(figsize = (8, 6))\n",
    "plt.hist(word_counts, bins = 3000, color = 'black', edgecolor = 'red')\n",
    "plt.title(f'Term Frequency Distribution for Category {categories[category_number]}')\n",
    "plt.xlabel('Frequency')\n",
    "plt.ylabel('Number of Terms')\n",
    "plt.xlim(1, 170)\n",
    "plt.show()"
   ]
  },
  {
   "cell_type": "code",
   "execution_count": null,
   "id": "e8542757-9515-4450-91c2-6e2ffb72fb08",
   "metadata": {},
   "outputs": [],
   "source": [
    "category_number = 1\n",
    "word_counts = term_document_dfs[categories[category_number]].sum(axis = 0).to_numpy()\n",
    "\n",
    "sorted_indices = np.argsort(word_counts)\n",
    "sorted_counts = np.sort(word_counts)[::-1]\n",
    "\n",
    "total_terms = len(sorted_counts)\n",
    "top_5_percent_index = int(0.05 * total_terms)\n",
    "\n",
    "top_5_percent_indices = sorted_indices[:top_5_percent_index]\n",
    "\n",
    "filtered_words = [count_vect.get_feature_names_out()[i] for i in top_5_percent_indices]\n",
    "\n",
    "print(f\"Category: {categories[category_number]}\")\n",
    "print(f\"Number of terms in top 5%: {top_5_percent_index}\")\n",
    "print(f\"Filtered terms: {filtered_words}\")"
   ]
  },
  {
   "cell_type": "code",
   "execution_count": null,
   "id": "6d9520e9-5ae8-4ae0-8fc0-efc4569925c5",
   "metadata": {},
   "outputs": [],
   "source": [
    "category_number = 1\n",
    "word_counts = term_document_dfs[categories[category_number]].sum(axis=0).to_numpy()\n",
    "\n",
    "sorted_indices = np.argsort(word_counts) \n",
    "sorted_counts = word_counts[sorted_indices] \n",
    "\n",
    "total_terms = len(sorted_counts)\n",
    "bottom_1_percent_index = int(0.01 * total_terms)\n",
    "\n",
    "bottom_1_percent_indices = sorted_indices[:bottom_1_percent_index]\n",
    "\n",
    "filtered_words = [count_vect.get_feature_names_out()[i] for i in bottom_1_percent_indices]\n",
    "\n",
    "print(f\"Category: {categories[category_number]}\")\n",
    "print(f\"Number of terms in bottom 1%: {bottom_1_percent_index}\")\n",
    "print(f\"Filtered terms: {filtered_words}\")"
   ]
  },
  {
   "cell_type": "code",
   "execution_count": null,
   "id": "cf7e5afd-38c6-4552-a410-ff03aff4cb87",
   "metadata": {},
   "outputs": [],
   "source": [
    "#移除極端情形\n",
    "category_number = 1\n",
    "\n",
    "def filter_top_bottom_words_by_sum(term_document_df, top_percent=0.05, bottom_percent=0.01):\n",
    "    word_sums = term_document_df.sum(axis=0)\n",
    "    \n",
    "    sorted_words = word_sums.sort_values()\n",
    "    \n",
    "    total_words = len(sorted_words)\n",
    "    top_n = int(top_percent * total_words)\n",
    "    bottom_n = int(bottom_percent * total_words)\n",
    "    \n",
    "    words_to_remove = pd.concat([sorted_words.head(bottom_n), sorted_words.tail(top_n)]).index\n",
    "    \n",
    "    return term_document_df.drop(columns=words_to_remove)\n",
    "\n",
    "filtered_term_document_dfs = {}\n",
    "\n",
    "for category in categories:\n",
    "    filtered_term_document_dfs[category] = filter_top_bottom_words_by_sum(term_document_dfs[category])\n",
    "term_document_dfs=filtered_term_document_dfs\n",
    "\n",
    "print(f\"Filtered Term-Document Frequency DataFrame for Category {categories[category_number]}:\")\n",
    "filtered_term_document_dfs[categories[category_number]]"
   ]
  },
  {
   "cell_type": "code",
   "execution_count": null,
   "id": "f83757e2-82db-4e68-99b0-c4fce4ba38e2",
   "metadata": {},
   "outputs": [],
   "source": [
    "from PAMI.extras.DF2DB import DenseFormatDF as db\n",
    "\n",
    "for category in term_document_dfs:\n",
    "\n",
    "    category_safe = category.replace('.', '_')\n",
    "\n",
    "    print(category_safe)\n",
    "    \n",
    "    obj = db.DenseFormatDF(term_document_dfs[category])\n",
    "    obj.convert2TransactionalDatabase(f'td_freq_db_{category_safe}.csv', '>=', 1)"
   ]
  },
  {
   "cell_type": "code",
   "execution_count": null,
   "id": "06c14b53-324d-4f80-830c-032e4547a910",
   "metadata": {},
   "outputs": [],
   "source": [
    "from PAMI.extras.dbStats import TransactionalDatabase as tds\n",
    "obj = tds.TransactionalDatabase('td_freq_db_nostalgia.csv')\n",
    "obj.run()\n",
    "obj.printStats()\n",
    "obj.plotGraphs()"
   ]
  },
  {
   "cell_type": "code",
   "execution_count": null,
   "id": "9a031aa3-99a2-4eab-93e3-14a7bc6d60e0",
   "metadata": {},
   "outputs": [],
   "source": [
    "obj = tds.TransactionalDatabase('td_freq_db_not nostalgia.csv')\n",
    "obj.run()\n",
    "obj.printStats()\n",
    "obj.plotGraphs()"
   ]
  },
  {
   "cell_type": "code",
   "execution_count": null,
   "id": "d377c2a1-1770-4afe-9060-37970132e720",
   "metadata": {},
   "outputs": [],
   "source": [
    "from PAMI.frequentPattern.basic import FPGrowth as alg\n",
    "minSup = 5\n",
    "obj1 = alg.FPGrowth(iFile='td_freq_db_not nostalgia.csv', minSup = minSup)\n",
    "obj1.mine()\n",
    "frequentPatternsDF_notNostalgia= obj1.getPatternsAsDataFrame()\n",
    "print('Total No of patterns: ' + str(len(frequentPatternsDF_notNostalgia))) \n",
    "print('Runtime: ' + str(obj1.getRuntime()))"
   ]
  },
  {
   "cell_type": "code",
   "execution_count": null,
   "id": "7888b94b-08b9-475a-82b7-d88d59e738f0",
   "metadata": {},
   "outputs": [],
   "source": [
    "minSup = 6\n",
    "obj1 = alg.FPGrowth(iFile='td_freq_db_nostalgia.csv', minSup = minSup)\n",
    "obj1.mine()\n",
    "frequentPatternsDF_nostalgia= obj1.getPatternsAsDataFrame()\n",
    "print('Total No of patterns: ' + str(len(frequentPatternsDF_nostalgia))) \n",
    "print('Runtime: ' + str(obj1.getRuntime()))"
   ]
  },
  {
   "cell_type": "code",
   "execution_count": null,
   "id": "a24db80d-3191-4ece-8c85-7e9583aa8f83",
   "metadata": {},
   "outputs": [],
   "source": [
    "obj1.save('freq_patterns_notNostalgia_minSup9.txt')\n",
    "frequentPatternsDF_notNostalgia"
   ]
  },
  {
   "cell_type": "code",
   "execution_count": null,
   "id": "75f641d4-708c-4fcc-aea0-825024499767",
   "metadata": {
    "scrolled": true
   },
   "outputs": [],
   "source": [
    "obj1.save('freq_patterns_nostalgia_minSup9.txt')\n",
    "frequentPatternsDF_nostalgia"
   ]
  },
  {
   "cell_type": "code",
   "execution_count": null,
   "id": "2a71c834-a5e6-490a-9411-9a508b4feea3",
   "metadata": {},
   "outputs": [],
   "source": [
    "dfs = [frequentPatternsDF_notNostalgia, frequentPatternsDF_nostalgia]\n",
    "\n",
    "pattern_counts = {}\n",
    "for df in dfs:\n",
    "    for pattern in df['Patterns']:\n",
    "        if pattern not in pattern_counts:\n",
    "            pattern_counts[pattern] = 1\n",
    "        else:\n",
    "            pattern_counts[pattern] += 1\n",
    "\n",
    "unique_patterns = {pattern for pattern, count in pattern_counts.items() if count == 1}\n",
    "\n",
    "total_patterns_count = sum(len(df) for df in dfs)\n",
    "\n",
    "discarded_patterns_count = total_patterns_count - len(unique_patterns)\n",
    "\n",
    "filtered_dfs = []\n",
    "\n",
    "for df in dfs:\n",
    "    filtered_df = df[df['Patterns'].isin(unique_patterns)]\n",
    "    filtered_dfs.append(filtered_df)\n",
    "\n",
    "final_pattern_df = pd.concat(filtered_dfs, ignore_index=True)\n",
    "\n",
    "final_pattern_df = final_pattern_df.sort_values(by='Support', ascending=False)\n",
    "\n",
    "print(final_pattern_df)\n",
    "\n",
    "print(f\"Number of patterns discarded: {discarded_patterns_count}\")"
   ]
  },
  {
   "cell_type": "code",
   "execution_count": null,
   "id": "551ed6b9-b7a1-48b3-9382-a0a7618d41d0",
   "metadata": {
    "scrolled": true
   },
   "outputs": [],
   "source": [
    "count_vect = CountVectorizer()\n",
    "\n",
    "analysis_tdm = count_vect.fit_transform(analysis[\"comment\"])\n",
    "terms = count_vect.get_feature_names_out()\n",
    "\n",
    "analysis['tokenized_comment'] = analysis[\"comment\"].str.split().apply(set)\n",
    "\n",
    "pattern_matrix = pd.DataFrame(0, index = analysis.index, columns = final_pattern_df['Patterns'])\n",
    "\n",
    "for pattern in final_pattern_df['Patterns']:\n",
    "    pattern_words = set(pattern.split())\n",
    "    pattern_matrix[pattern] = analysis['tokenized_comment'].apply(lambda x: 1 if pattern_words.issubset(x) else 0)\n",
    "\n",
    "tdm_df = pd.DataFrame(analysis_tdm.toarray(), columns = terms, index = analysis.index)\n",
    "\n",
    "augmented_df = pd.concat([tdm_df, pattern_matrix], axis = 1)\n",
    "augmented_df"
   ]
  },
  {
   "cell_type": "code",
   "execution_count": null,
   "id": "1e6524a4-43ab-41a7-97eb-d138b1dd2151",
   "metadata": {},
   "outputs": [],
   "source": [
    "from sklearn.decomposition import PCA\n",
    "from sklearn.manifold import TSNE\n",
    "import umap\n",
    "\n",
    "ana_pca_tdm = PCA(n_components=2).fit_transform(tdm_df.values)\n",
    "ana_tsne_tdm = TSNE(n_components=2).fit_transform(tdm_df.values)\n",
    "ana_umap_tdm = umap.UMAP(n_components=2).fit_transform(tdm_df.values)"
   ]
  },
  {
   "cell_type": "code",
   "execution_count": null,
   "id": "fed2815d-29e6-4ee1-b79e-cf62539be636",
   "metadata": {
    "scrolled": true
   },
   "outputs": [],
   "source": [
    "ana_pca_tdm.shape"
   ]
  },
  {
   "cell_type": "code",
   "execution_count": null,
   "id": "879765a9-ab26-45e3-ab46-fefd4af867d2",
   "metadata": {},
   "outputs": [],
   "source": [
    "ana_tsne_tdm.shape"
   ]
  },
  {
   "cell_type": "code",
   "execution_count": null,
   "id": "ee40f56a-c3c9-45df-b2db-d1547a140ccb",
   "metadata": {},
   "outputs": [],
   "source": [
    "ana_umap_tdm.shape"
   ]
  },
  {
   "cell_type": "code",
   "execution_count": null,
   "id": "acfe3ab0-51bc-4cdb-9d55-1d3eeaecb0c4",
   "metadata": {},
   "outputs": [],
   "source": [
    "col = ['coral', 'blue']\n",
    "categories = analysis['sentiment'].unique() \n",
    "fig, axes = plt.subplots(1, 3, figsize=(30, 10))\n",
    "fig.suptitle('PCA, t-SNE, and UMAP Comparison')\n",
    "\n",
    "def plot_scatter(ax, ana_reduced, title):\n",
    "    for c, category in zip(col, categories):\n",
    "        xs = ana_reduced[analysis['sentiment'] == category].T[0]\n",
    "        ys = ana_reduced[analysis['sentiment'] == category].T[1]\n",
    "        ax.scatter(xs, ys, c=c, marker='o', label=category)\n",
    "    \n",
    "    ax.grid(color='gray', linestyle=':', linewidth=2, alpha=0.2)\n",
    "    ax.set_title(title)\n",
    "    ax.set_xlabel('X')\n",
    "    ax.set_ylabel('Y')\n",
    "    ax.legend(loc='upper right')\n",
    "# Step 4: Create scatter plots for PCA, t-SNE, and UMAP\n",
    "plot_scatter(axes[0], ana_pca_tdm, 'PCA')\n",
    "plot_scatter(axes[1], ana_tsne_tdm, 't-SNE')\n",
    "plot_scatter(axes[2], ana_umap_tdm, 'UMAP')\n",
    "plt.show()"
   ]
  },
  {
   "cell_type": "code",
   "execution_count": null,
   "id": "a7565a23-d316-4e17-9197-cc6350fad5ec",
   "metadata": {},
   "outputs": [],
   "source": [
    "ana_pca_aug = PCA(n_components=2).fit_transform(augmented_df.values)\n",
    "ana_tsne_aug = TSNE(n_components=2).fit_transform(augmented_df.values)\n",
    "ana_umap_aug = umap.UMAP(n_components=2).fit_transform(augmented_df.values)"
   ]
  },
  {
   "cell_type": "code",
   "execution_count": null,
   "id": "cd4bdd67-2612-4808-bd36-30aeb9287859",
   "metadata": {},
   "outputs": [],
   "source": [
    "col = ['coral', 'blue']\n",
    "categories = analysis['sentiment'].unique() \n",
    "fig, axes = plt.subplots(1, 3, figsize=(30, 10))\n",
    "\n",
    "fig.suptitle('PCA, t-SNE, and UMAP Comparison')\n",
    "\n",
    "def plot_scatter(ax, ana_reduced, title):\n",
    "    for c, category in zip(col, categories):\n",
    "        xs = ana_reduced[analysis['sentiment'] == category].T[0]\n",
    "        ys = ana_reduced[analysis['sentiment'] == category].T[1]\n",
    "        ax.scatter(xs, ys, c=c, marker='o', label=category)\n",
    "    \n",
    "    ax.grid(color='gray', linestyle=':', linewidth=2, alpha=0.2)\n",
    "    ax.set_title(title)\n",
    "    ax.set_xlabel('X')\n",
    "    ax.set_ylabel('Y')\n",
    "    ax.legend(loc='upper right')\n",
    "# Create scatter plots for PCA, t-SNE, and UMAP\n",
    "plot_scatter(axes[0], ana_pca_aug, 'PCA')\n",
    "plot_scatter(axes[1], ana_tsne_aug, 't-SNE')\n",
    "plot_scatter(axes[2], ana_umap_aug, 'UMAP')\n",
    "plt.show()"
   ]
  },
  {
   "cell_type": "code",
   "execution_count": null,
   "id": "6b16ac74-0fbe-4c8e-9bf1-a40714afcc52",
   "metadata": {},
   "outputs": [],
   "source": [
    "from sklearn import preprocessing, metrics, decomposition, pipeline, dummy"
   ]
  },
  {
   "cell_type": "code",
   "execution_count": null,
   "id": "d8a0f2cc-5d23-425f-9114-f5d43fab6266",
   "metadata": {},
   "outputs": [],
   "source": [
    "mlb = preprocessing.LabelBinarizer()"
   ]
  },
  {
   "cell_type": "code",
   "execution_count": null,
   "id": "0f838da7-4d19-4337-a04d-e2d34c96ba69",
   "metadata": {},
   "outputs": [],
   "source": [
    "mlb.fit(analysis.sentiment)"
   ]
  },
  {
   "cell_type": "code",
   "execution_count": null,
   "id": "80f07a1b-e44c-4c40-a025-5fdd0a65c389",
   "metadata": {},
   "outputs": [],
   "source": [
    "analysis['bin_category'] = mlb.transform(analysis['sentiment']).tolist()"
   ]
  },
  {
   "cell_type": "code",
   "execution_count": null,
   "id": "23c66252-fb74-4437-8653-27bcdc870ed0",
   "metadata": {},
   "outputs": [],
   "source": [
    "analysis[:5]"
   ]
  },
  {
   "cell_type": "code",
   "execution_count": null,
   "id": "f7e7bc21-4023-43f4-bc85-0dc7955ffacd",
   "metadata": {},
   "outputs": [],
   "source": [
    "# Data Exploration"
   ]
  },
  {
   "cell_type": "code",
   "execution_count": null,
   "id": "6687a468-ae98-4ab4-913a-1838c3df1a54",
   "metadata": {},
   "outputs": [],
   "source": [
    "doc2transform_1 = []\n",
    "random_record_1 = analysis.iloc[50]\n",
    "random_record_1 = random_record_1['comment']\n",
    "doc2transform_1.append(random_record_1)\n",
    "\n",
    "doc2transform_2 = []\n",
    "random_record_2 = analysis.iloc[60]\n",
    "random_record_2 = random_record_2['comment']\n",
    "doc2transform_2.append(random_record_2)\n",
    "\n",
    "doc2transform_3 = []\n",
    "random_record_3 = analysis.iloc[80]\n",
    "random_record_3 = random_record_3['comment']\n",
    "doc2transform_3.append(random_record_3)"
   ]
  },
  {
   "cell_type": "code",
   "execution_count": null,
   "id": "5b650b9d-bbf0-42f5-abb1-994baf7d3a5a",
   "metadata": {},
   "outputs": [],
   "source": [
    "print(doc2transform_1)\n",
    "print(doc2transform_2)\n",
    "print(doc2transform_3)"
   ]
  },
  {
   "cell_type": "code",
   "execution_count": null,
   "id": "d644516e-ea5d-40a9-9e51-a73fc5326aea",
   "metadata": {},
   "outputs": [],
   "source": [
    "from sklearn.preprocessing import binarize\n",
    "\n",
    "document_vector_count_1 = count_vect.transform(doc2transform_1)\n",
    "document_vector_count_2 = count_vect.transform(doc2transform_2)\n",
    "document_vector_count_3 = count_vect.transform(doc2transform_3)\n",
    "\n",
    "document_vector_count_1_bin = binarize(document_vector_count_1)\n",
    "document_vector_count_2_bin = binarize(document_vector_count_2)\n",
    "document_vector_count_3_bin = binarize(document_vector_count_3)\n",
    "\n",
    "print(\"Let's take a look at the count vectors:\")\n",
    "print(document_vector_count_1.todense())\n",
    "print(document_vector_count_2.todense())\n",
    "print(document_vector_count_3.todense())"
   ]
  },
  {
   "cell_type": "code",
   "execution_count": null,
   "id": "4db69389-beba-400c-b408-bf07f033010b",
   "metadata": {},
   "outputs": [],
   "source": [
    "from sklearn.metrics.pairwise import cosine_similarity\n",
    "\n",
    "cos_sim_count_1_2 = cosine_similarity(document_vector_count_1, document_vector_count_2, dense_output=True)\n",
    "cos_sim_count_1_3 = cosine_similarity(document_vector_count_1, document_vector_count_3, dense_output=True)\n",
    "cos_sim_count_2_3 = cosine_similarity(document_vector_count_2, document_vector_count_3, dense_output=True)\n",
    "\n",
    "cos_sim_count_1_1 = cosine_similarity(document_vector_count_1, document_vector_count_1, dense_output=True)\n",
    "cos_sim_count_2_2 = cosine_similarity(document_vector_count_2, document_vector_count_2, dense_output=True)\n",
    "cos_sim_count_3_3 = cosine_similarity(document_vector_count_3, document_vector_count_3, dense_output=True)\n",
    "\n",
    "print(\"Cosine Similarity using count bw 1 and 2: %(x)f\" %{\"x\":cos_sim_count_1_2})\n",
    "print(\"Cosine Similarity using count bw 1 and 3: %(x)f\" %{\"x\":cos_sim_count_1_3})\n",
    "print(\"Cosine Similarity using count bw 2 and 3: %(x)f\" %{\"x\":cos_sim_count_2_3})\n",
    "\n",
    "print(\"Cosine Similarity using count bw 1 and 1: %(x)f\" %{\"x\":cos_sim_count_1_1})\n",
    "print(\"Cosine Similarity using count bw 2 and 2: %(x)f\" %{\"x\":cos_sim_count_2_2})\n",
    "print(\"Cosine Similarity using count bw 3 and 3: %(x)f\" %{\"x\":cos_sim_count_3_3})"
   ]
  },
  {
   "cell_type": "code",
   "execution_count": null,
   "id": "3a18db22-2155-4eb3-81b4-35be42f072a9",
   "metadata": {},
   "outputs": [],
   "source": [
    "# Data Classification"
   ]
  },
  {
   "cell_type": "code",
   "execution_count": null,
   "id": "449ed902-3a9d-4b17-942c-ac6765e1285f",
   "metadata": {},
   "outputs": [],
   "source": [
    "from sklearn.feature_extraction.text import CountVectorizer\n",
    "from sklearn.model_selection import train_test_split\n",
    "from sklearn.naive_bayes import MultinomialNB\n",
    "from sklearn.metrics import classification_report, accuracy_score"
   ]
  },
  {
   "cell_type": "code",
   "execution_count": null,
   "id": "e02ffe0b-76e0-4f5f-a566-d165863f8732",
   "metadata": {},
   "outputs": [],
   "source": [
    "analysis['bin_category'] = analysis['bin_category'].apply(lambda x: x[0] if isinstance(x, list) else x)\n",
    "\n",
    "category_mapping = dict(analysis[['bin_category', 'sentiment']].drop_duplicates().values)\n",
    "\n",
    "target_names = [category_mapping[label] for label in sorted(category_mapping.keys())]\n",
    "\n",
    "X_train, X_test, y_train, y_test = train_test_split(tdm_df, analysis['sentiment'], test_size=0.3, random_state=42)"
   ]
  },
  {
   "cell_type": "code",
   "execution_count": null,
   "id": "fea26c96-b796-4852-a6c2-dd3251f516dd",
   "metadata": {
    "scrolled": true
   },
   "outputs": [],
   "source": [
    "X_train"
   ]
  },
  {
   "cell_type": "code",
   "execution_count": null,
   "id": "5cbf4aa3-114b-43e5-8a7a-51801851877e",
   "metadata": {
    "scrolled": true
   },
   "outputs": [],
   "source": [
    "X_test"
   ]
  },
  {
   "cell_type": "code",
   "execution_count": null,
   "id": "c46eb34f-579c-4e99-8c2c-0c685115e746",
   "metadata": {
    "scrolled": true
   },
   "outputs": [],
   "source": [
    "y_train"
   ]
  },
  {
   "cell_type": "code",
   "execution_count": null,
   "id": "695fb42c-13bb-486c-b235-7128ba54032d",
   "metadata": {},
   "outputs": [],
   "source": [
    "y_test"
   ]
  },
  {
   "cell_type": "code",
   "execution_count": null,
   "id": "a3c264a9-29b0-493c-8368-c97f6554399a",
   "metadata": {},
   "outputs": [],
   "source": [
    "nb_classifier = MultinomialNB()\n",
    "nb_classifier.fit(X_train, y_train)\n",
    "\n",
    "y_pred = nb_classifier.predict(X_test)\n",
    "\n",
    "print(\"Accuracy:\", accuracy_score(y_test, y_pred))\n",
    "print(\"\\nClassification Report:\\n\", classification_report(y_test, y_pred, target_names=target_names, digits=4))"
   ]
  },
  {
   "cell_type": "code",
   "execution_count": null,
   "id": "c67cef27-e502-461b-88e1-a2cde8407a1a",
   "metadata": {},
   "outputs": [],
   "source": [
    "# TF-IDF"
   ]
  },
  {
   "cell_type": "code",
   "execution_count": null,
   "id": "1e1b87ef-d762-40f9-9a3c-4f9e52def90e",
   "metadata": {},
   "outputs": [],
   "source": [
    "from sklearn.feature_extraction.text import TfidfVectorizer\n",
    "\n",
    "tfidf_vect = TfidfVectorizer()\n",
    "\n",
    "tfidf_matrix = tfidf_vect.fit_transform(analysis['comment'])  # 生成 TF-IDF 特徵矩陣\n",
    "\n",
    "tfidf_features = tfidf_vect.get_feature_names_out()\n",
    "\n",
    "tfidf_df = pd.DataFrame(tfidf_matrix.toarray(), columns=tfidf_features)\n",
    "\n",
    "print(tfidf_df.head())"
   ]
  },
  {
   "cell_type": "code",
   "execution_count": null,
   "id": "b3916420-cbb9-4160-82aa-a9b2932cddd9",
   "metadata": {
    "scrolled": true
   },
   "outputs": [],
   "source": [
    "# 降維後TF_IDF資料的散佈圖\n",
    "tfidf_pca = PCA(n_components=2).fit_transform(tfidf_matrix.toarray())\n",
    "\n",
    "plt.figure(figsize=(9, 7))\n",
    "plt.scatter(tfidf_pca[:, 0], tfidf_pca[:, 1], alpha=0.5)\n",
    "plt.title(\"PCA of TF-IDF Features\")\n",
    "plt.xlabel(\"Principal Component 1\")\n",
    "plt.ylabel(\"Principal Component 2\")\n",
    "plt.show()"
   ]
  },
  {
   "cell_type": "code",
   "execution_count": null,
   "id": "23d4ba73-8af1-40cb-b677-802ec5e1ecba",
   "metadata": {},
   "outputs": [],
   "source": [
    "tfidf_vectorizer = TfidfVectorizer(stop_words='english')\n",
    "tfidf_matrix = tfidf_vectorizer.fit_transform(analysis['comment'])\n",
    "\n",
    "tfidf_df = pd.DataFrame(tfidf_matrix.toarray(), columns=tfidf_vectorizer.get_feature_names_out())\n",
    "\n",
    "top_n = 10\n",
    "top_n_words = tfidf_df.mean().sort_values(ascending=False).head(top_n).index\n",
    "\n",
    "tfidf_df[top_n_words].mean().sort_values().plot(kind='barh', figsize=(10, 6))\n",
    "plt.title(f\"Top {top_n} Words by Average TF-IDF Weight (Stop Words Removed)\")\n",
    "plt.xlabel(\"Average TF-IDF Weight\")\n",
    "plt.ylabel(\"Words\")\n",
    "plt.show()"
   ]
  },
  {
   "cell_type": "code",
   "execution_count": null,
   "id": "5199e4fe-9146-49cd-9d10-b0c00d284518",
   "metadata": {},
   "outputs": [],
   "source": [
    "from wordcloud import WordCloud\n",
    "\n",
    "wordcloud = WordCloud(width=800, height=400, background_color='white').generate_from_frequencies(tfidf_df.mean())\n",
    "\n",
    "plt.figure(figsize=(10, 5))\n",
    "plt.imshow(wordcloud, interpolation='bilinear')\n",
    "plt.axis('off')  # 不顯示坐標軸\n",
    "plt.title(\"Word Cloud of Average TF-IDF Weights (Stop Words Removed)\")\n",
    "plt.show()"
   ]
  },
  {
   "cell_type": "code",
   "execution_count": null,
   "id": "20d24cd6-2fd0-455d-9b68-16de6e7fc746",
   "metadata": {},
   "outputs": [],
   "source": [
    "# two new classifier"
   ]
  },
  {
   "cell_type": "code",
   "execution_count": null,
   "id": "a891266f-3b63-432f-889c-6d9eef3d65b8",
   "metadata": {},
   "outputs": [],
   "source": [
    "# TF-IDF for GaussianNB"
   ]
  },
  {
   "cell_type": "code",
   "execution_count": null,
   "id": "6835e288-96a8-48e6-af6e-eea3bc803a36",
   "metadata": {
    "scrolled": true
   },
   "outputs": [],
   "source": [
    "from sklearn.feature_extraction.text import TfidfVectorizer\n",
    "from sklearn.naive_bayes import GaussianNB\n",
    "\n",
    "# tfidf_matrix\n",
    "\n",
    "X_train_tfidf, X_test_tfidf, y_train, y_test = train_test_split(tfidf_matrix, analysis['sentiment'], test_size=0.2, random_state=42)\n",
    "\n",
    "X_train_tfidf_array = X_train_tfidf.toarray()\n",
    "X_test_tfidf_array = X_test_tfidf.toarray()\n",
    "\n",
    "nb_classifier_tfidf = GaussianNB()\n",
    "nb_classifier_tfidf.fit(X_train_tfidf_array, y_train)\n",
    "\n",
    "y_pred_tfidf = nb_classifier_tfidf.predict(X_test_tfidf_array)\n",
    "\n",
    "print(\"TF-IDF Features - Accuracy:\", accuracy_score(y_test, y_pred_tfidf))\n",
    "print(\"\\nClassification Report:\\n\", classification_report(y_test, y_pred_tfidf, target_names=target_names, digits=4))\n"
   ]
  },
  {
   "cell_type": "code",
   "execution_count": null,
   "id": "8d45cd8d-1c4c-4503-980e-7b1b867b37aa",
   "metadata": {},
   "outputs": [],
   "source": [
    "# TF-IDF for BernoulliNB()"
   ]
  },
  {
   "cell_type": "code",
   "execution_count": null,
   "id": "f781a628-71fc-4aa8-adf3-9ef3a3879fd0",
   "metadata": {},
   "outputs": [],
   "source": [
    "X_train, X_test, y_train, y_test = train_test_split(tfidf_matrix, analysis['sentiment'], test_size=0.2, random_state=42)\n",
    "\n",
    "# 使用 BernoulliNB 訓練模型\n",
    "bernoulli_nb = BernoulliNB()\n",
    "bernoulli_nb.fit(X_train, y_train)\n",
    "\n",
    "# 預測並評估\n",
    "y_pred = bernoulli_nb.predict(X_test)\n",
    "\n",
    "# 顯示精確度和分類報告\n",
    "print(\"Accuracy:\", accuracy_score(y_test, y_pred))\n",
    "print(\"\\nClassification Report:\\n\", classification_report(y_test, y_pred))"
   ]
  },
  {
   "cell_type": "code",
   "execution_count": null,
   "id": "b9837924-a980-4a61-9cc2-4e53e49b00ce",
   "metadata": {},
   "outputs": [],
   "source": [
    "# wf for BernoulliNB"
   ]
  },
  {
   "cell_type": "code",
   "execution_count": null,
   "id": "c1868f02-e053-431c-b680-9b6545378898",
   "metadata": {
    "scrolled": true
   },
   "outputs": [],
   "source": [
    "texts = analysis['comment']\n",
    "labels = analysis['sentiment']\n",
    "X_train, X_test, y_train, y_test = train_test_split(texts, labels, test_size=0.3, random_state=42)\n",
    "vectorizer = CountVectorizer(binary=True)\n",
    "X_train_tdm = vectorizer.fit_transform(X_train)\n",
    "X_test_tdm = vectorizer.transform(X_test)"
   ]
  },
  {
   "cell_type": "code",
   "execution_count": null,
   "id": "6e49f32b-2cc6-4082-8d42-2bdeaa16aa2e",
   "metadata": {},
   "outputs": [],
   "source": [
    "from sklearn.naive_bayes import BernoulliNB\n",
    "from sklearn.metrics import accuracy_score, classification_report\n",
    "\n",
    "bnb_classifier = BernoulliNB()\n",
    "bnb_classifier.fit(X_train_tdm, y_train)"
   ]
  },
  {
   "cell_type": "code",
   "execution_count": null,
   "id": "75ffd708-4bbe-44bf-94c1-612cefe0594b",
   "metadata": {},
   "outputs": [],
   "source": [
    "y_pred = bnb_classifier.predict(X_test_tdm)\n",
    "\n",
    "print(\"Accuracy:\", accuracy_score(y_test, y_pred))\n",
    "\n",
    "target_names = ['nostalgia', 'not nostalgia']  # 根據你的類別名稱調整\n",
    "print(\"\\nClassification Report:\\n\", classification_report(y_test, y_pred, target_names=target_names, digits=4))"
   ]
  },
  {
   "cell_type": "code",
   "execution_count": null,
   "id": "a9af4056-a24d-4d6e-958d-30641afcb1f2",
   "metadata": {},
   "outputs": [],
   "source": [
    "# Comment on the differences below:\n",
    "# wf - multinomial / wf - bernoulli \n",
    "# tf-igf - gaussian\n",
    "\n",
    "# 1.利用詞頻對 multinomial / Bernoulli NB進行訓練的差異:\n",
    "    # MultinomialNB 能夠捕捉詞頻的影響，適合處理包含詞數量多的文本，對詞頻和文本長度更敏感\n",
    "    # BernoulliNB 更加專注於詞是否出現，因此適合文本中詞彙數量相對穩定且重複少的情況\n",
    "    # 推測因為該sentiment detection文本中詞彙數量較少，故在Bernoulli NB()訓練時表現較佳\n",
    "# 2.利用TF-IDF對GaussianNB()進行訓練:\n",
    "    # GaussianNB 適合用於連續型數據（即數值型變量）並假設每個特徵符合正態分佈 (適合典型的統計資料以及連續型數值特徵)\n",
    "    # 由於TF-IDF 特徵是稀疏矩陣，更非均勻正態分佈，故在這次的訓練中表現效果有限(僅有7成accuracy)\n",
    "# 3.利用TF-IDF對BernoulliNB()進行訓練:\n",
    "    # 針對前述對於BernoulliNB()提及的特徵，使用 TF-IDF 時，雖然產生的特徵並非全是二元值，但比起使用GaussianNB()，已取得相對好的效果"
   ]
  },
  {
   "cell_type": "code",
   "execution_count": null,
   "id": "d9b9b9fe-7552-40d9-b74b-e120a185bb0a",
   "metadata": {},
   "outputs": [],
   "source": []
  }
 ],
 "metadata": {
  "kernelspec": {
   "display_name": "Python 3 (ipykernel)",
   "language": "python",
   "name": "python3"
  },
  "language_info": {
   "codemirror_mode": {
    "name": "ipython",
    "version": 3
   },
   "file_extension": ".py",
   "mimetype": "text/x-python",
   "name": "python",
   "nbconvert_exporter": "python",
   "pygments_lexer": "ipython3",
   "version": "3.12.7"
  }
 },
 "nbformat": 4,
 "nbformat_minor": 5
}
